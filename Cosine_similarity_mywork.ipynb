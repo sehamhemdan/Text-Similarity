{
 "cells": [
  {
   "cell_type": "code",
   "execution_count": 2,
   "metadata": {
    "collapsed": true
   },
   "outputs": [],
   "source": [
    "from sklearn.feature_extraction.text import CountVectorizer\n",
    "from sklearn.metrics.pairwise import cosine_similarity\n",
    "from sklearn.feature_extraction.text import TfidfVectorizer"
   ]
  },
  {
   "cell_type": "code",
   "execution_count": 3,
   "metadata": {
    "collapsed": false
   },
   "outputs": [
    {
     "name": "stdout",
     "output_type": "stream",
     "text": [
      "cosine scores ==>  [[ 1.  0.  0.  0.]]\n"
     ]
    }
   ],
   "source": [
    "f = open(\"pathall/D1.txt\",encoding='utf-8')\n",
    "doc1=f.read\n",
    "f = open(\"pathall/D2.txt\",encoding='utf-8')\n",
    "doc2=f.read()\n",
    "f = open(\"pathall/D3.txt\",encoding='utf-8')\n",
    "doc3=f.read()\n",
    "f = open(\"pathall/D4.txt\",encoding='utf-8')\n",
    "doc4=f.read()\n",
    "\n",
    "\n",
    "train_set = [\"عربر\",\"عربى\", \"يحتوى هذا الجزء على تعليمات\", \"هو\"]\n",
    "\n",
    "tfidf_vectorizer = TfidfVectorizer()\n",
    "tfidf_matrix_train = tfidf_vectorizer.fit_transform(train_set)\n",
    "print (\"cosine scores ==> \",cosine_similarity(tfidf_matrix_train[0:1], tfidf_matrix_train))"
   ]
  },
  {
   "cell_type": "code",
   "execution_count": 27,
   "metadata": {
    "collapsed": false
   },
   "outputs": [
    {
     "name": "stdout",
     "output_type": "stream",
     "text": [
      "0.5\n",
      "0.25\n"
     ]
    }
   ],
   "source": [
    "import numpy as np\n",
    "\n",
    "def cos_sim(a, b):\n",
    "    \"\"\"Takes 2 vectors a, b and returns the cosine similarity according \n",
    "    to the definition of the dot product\n",
    "    \"\"\"\n",
    "    dot_product = np.dot(a, b)\n",
    "    norm_a = np.linalg.norm(a)\n",
    "    norm_b = np.linalg.norm(b)\n",
    "    return dot_product / (norm_a * norm_b)\n",
    "\n",
    "\n",
    "# the counts we computed above\n",
    "sentence_m = np.array([1, 1, 1, 1, 0, 0, 0, 0, 0]) \n",
    "sentence_h = np.array([0, 0, 1, 1, 1, 1, 0, 0, 0])\n",
    "sentence_w = np.array([0, 0, 0, 1, 0, 0, 1, 1, 1])\n",
    "\n",
    "# We should expect sentence_m and sentence_h to be more similar\n",
    "print(cos_sim(sentence_m, sentence_h)) # 0.5\n",
    "print(cos_sim(sentence_m, sentence_w)) # 0.25\n"
   ]
  },
  {
   "cell_type": "code",
   "execution_count": 42,
   "metadata": {
    "collapsed": false
   },
   "outputs": [
    {
     "name": "stdout",
     "output_type": "stream",
     "text": [
      "TfidfTransformer(norm='l2', smooth_idf=True, sublinear_tf=False, use_idf=True)\n"
     ]
    }
   ],
   "source": [
    "from sklearn.feature_extraction.text import CountVectorizer\n",
    "from sklearn.feature_extraction.text import TfidfTransformer\n",
    "from nltk.corpus import stopwords\n",
    "import numpy as np\n",
    "import numpy.linalg as LA\n",
    "\n",
    "train_set = [\"ذهب احمد الي المدرسة\", \"مضى احمد الى المدرسة\"]  # Documents\n",
    "test_set = [\"احمد يذهب الي المدرسة\"]  # Query\n",
    "stopWords = stopwords.words('arabic')\n",
    "\n",
    "vectorizer = CountVectorizer(stop_words = stopWords)\n",
    "#print (vectorizer)\n",
    "transformer = TfidfTransformer()\n",
    "print(transformer)"
   ]
  },
  {
   "cell_type": "code",
   "execution_count": 43,
   "metadata": {
    "collapsed": false
   },
   "outputs": [
    {
     "name": "stdout",
     "output_type": "stream",
     "text": [
      "Fit Vectorizer to train set [[1 1 0 1 1 0]\n",
      " [1 1 1 0 0 1]]\n",
      "Transform Vectorizer to test set [[1 1 0 1 0 0]]\n",
      "[[ 0.40993715  0.40993715  0.          0.57615236  0.57615236  0.        ]\n",
      " [ 0.40993715  0.40993715  0.57615236  0.          0.          0.57615236]]\n",
      "[[ 0.57735027  0.57735027  0.          0.57735027  0.          0.        ]]\n"
     ]
    }
   ],
   "source": [
    "trainVectorizerArray = vectorizer.fit_transform(train_set).toarray()\n",
    "testVectorizerArray = vectorizer.transform(test_set).toarray()\n",
    "print ('Fit Vectorizer to train set', trainVectorizerArray)\n",
    "print ('Transform Vectorizer to test set', testVectorizerArray)\n",
    "\n",
    "transformer.fit(trainVectorizerArray)\n",
    "\n",
    "print (transformer.transform(trainVectorizerArray).toarray())\n",
    "\n",
    "transformer.fit(testVectorizerArray)\n",
    "\n",
    "tfidf = transformer.transform(testVectorizerArray)\n",
    "print (tfidf.todense())"
   ]
  },
  {
   "cell_type": "code",
   "execution_count": null,
   "metadata": {
    "collapsed": true
   },
   "outputs": [],
   "source": []
  }
 ],
 "metadata": {
  "kernelspec": {
   "display_name": "Python 3",
   "language": "python",
   "name": "python3"
  },
  "language_info": {
   "codemirror_mode": {
    "name": "ipython",
    "version": 3
   },
   "file_extension": ".py",
   "mimetype": "text/x-python",
   "name": "python",
   "nbconvert_exporter": "python",
   "pygments_lexer": "ipython3",
   "version": "3.6.0"
  }
 },
 "nbformat": 4,
 "nbformat_minor": 2
}

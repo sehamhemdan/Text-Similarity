{
 "cells": [
  {
   "cell_type": "code",
   "execution_count": 12,
   "metadata": {
    "collapsed": true
   },
   "outputs": [],
   "source": [
    "import numpy as np\n",
    "import matplotlib as mpl\n",
    "import matplotlib.pyplot as plt\n",
    "import seaborn as sns\n",
    "import math"
   ]
  },
  {
   "cell_type": "code",
   "execution_count": 13,
   "metadata": {
    "collapsed": true
   },
   "outputs": [],
   "source": [
    "def twoCharGram(dataset):\n",
    "    with open(dataset, encoding='utf-8') as data:\n",
    "        textFile = data.read().replace('\\n', ' ')\n",
    "        kGrams = set()\n",
    "        # 2-Char gram\n",
    "        for i in range(len(textFile)-1):\n",
    "            if textFile[i] + textFile[i+1] not in kGrams:\n",
    "                kGrams.add(textFile[i] + textFile[i+1])\n",
    "    return kGrams"
   ]
  },
  {
   "cell_type": "code",
   "execution_count": 14,
   "metadata": {
    "collapsed": true
   },
   "outputs": [],
   "source": [
    "# Ex. \"I am Sam\" = { ['I a'], [' am'], ['am '], ['m S'], [' Sa'], ['Sam']}\n",
    "def threeCharGram(dataset):\n",
    "    with open(dataset, encoding='utf-8') as data:\n",
    "        textFile = data.read().replace('\\n', ' ')\n",
    "        kGrams = set()\n",
    "        # 3-Char gram\n",
    "        for i in range(len(textFile)-2):\n",
    "            if textFile[i] + textFile[i+1] + textFile[i+2] not in kGrams:\n",
    "                kGrams.add(textFile[i] + textFile[i+1] + textFile[i+2])\n",
    "    return kGrams"
   ]
  },
  {
   "cell_type": "code",
   "execution_count": 15,
   "metadata": {
    "collapsed": true
   },
   "outputs": [],
   "source": [
    "# Ex. \"I am Sam\" = { ['I am'], ['am Sam']}\n",
    "def twoWordGram(dataset):\n",
    "    with open(dataset, encoding='utf-8') as data:\n",
    "        tokens = str.split(data.read().replace('\\n', ' '))\n",
    "        kGrams = set()\n",
    "        #2-word gram\n",
    "        for i in range(len(tokens)-1):\n",
    "            if tokens[i] + ' ' + tokens[i+1] not in kGrams:\n",
    "                kGrams.add(tokens[i] + ' ' + tokens[i+1])\n",
    "    return kGrams"
   ]
  },
  {
   "cell_type": "code",
   "execution_count": 16,
   "metadata": {
    "collapsed": false
   },
   "outputs": [
    {
     "name": "stdout",
     "output_type": "stream",
     "text": [
      "D1.txt two char gram size: 138\n",
      "D2.txt two char gram size: 136\n",
      "D3.txt two char gram size: 136\n",
      "D4.txt two char gram size: 136\n"
     ]
    }
   ],
   "source": [
    "for dataset in ['D1.txt','D2.txt','D3.txt','D4.txt']:\n",
    "    print(dataset + ' two char gram size: %d' % len(twoCharGram('pathall/'+dataset)))\n"
   ]
  },
  {
   "cell_type": "code",
   "execution_count": 17,
   "metadata": {
    "collapsed": false
   },
   "outputs": [
    {
     "name": "stdout",
     "output_type": "stream",
     "text": [
      "D1.txt three char gram size: 196\n",
      "D2.txt three char gram size: 191\n",
      "D3.txt three char gram size: 191\n",
      "D4.txt three char gram size: 191\n"
     ]
    }
   ],
   "source": [
    "for dataset in ['D1.txt','D2.txt','D3.txt','D4.txt']:\n",
    "    print(dataset + ' three char gram size: %d' % len(threeCharGram('pathall/'+dataset)))"
   ]
  },
  {
   "cell_type": "code",
   "execution_count": 18,
   "metadata": {
    "collapsed": false
   },
   "outputs": [
    {
     "name": "stdout",
     "output_type": "stream",
     "text": [
      "D1.txt two word gram size: 45\n",
      "D2.txt two word gram size: 44\n",
      "D3.txt two word gram size: 44\n",
      "D4.txt two word gram size: 44\n"
     ]
    }
   ],
   "source": [
    "for dataset in ['D1.txt','D2.txt','D3.txt','D4.txt']:\n",
    "    print(dataset + ' two word gram size: %d' % len(twoWordGram('pathall/'+dataset)))"
   ]
  },
  {
   "cell_type": "code",
   "execution_count": 19,
   "metadata": {
    "collapsed": true
   },
   "outputs": [],
   "source": [
    "def jaccard(d1,d2,d3,d4, message):\n",
    "    print('D1.txt\\'s '+ message +' similarity with D2.txt is: %.6f percent' % (100.* len(D1set.intersection(D2set))/ len(D1set.union(D2set))))\n",
    "    print('D1.txt\\'s '+ message +' similarity with D3.txt is: %.6f percent' % (100.* len(D1set.intersection(D3set))/ len(D1set.union(D3set))))\n",
    "    print('D1.txt\\'s '+ message +' similarity with D4.txt is: %.6f percent' % (100.* len(D1set.intersection(D4set))/ len(D1set.union(D4set))))\n",
    "    print('D2.txt\\'s '+ message +' similarity with D3.txt is: %.6f percent' % (100.* len(D2set.intersection(D3set))/ len(D2set.union(D3set))))\n",
    "    print('D2.txt\\'s '+ message +' similarity with D4.txt is: %.6f percent' % (100.* len(D2set.intersection(D4set))/ len(D2set.union(D4set))))\n",
    "    print('D3.txt\\'s '+ message +' similarity with D4.txt is: %.6f percent' % (100.* len(D3set.intersection(D4set))/ len(D3set.union(D4set))))"
   ]
  },
  {
   "cell_type": "code",
   "execution_count": 20,
   "metadata": {
    "collapsed": false
   },
   "outputs": [
    {
     "name": "stdout",
     "output_type": "stream",
     "text": [
      "D1.txt's two char gram similarity with D2.txt is: 98.550725 percent\n",
      "D1.txt's two char gram similarity with D3.txt is: 98.550725 percent\n",
      "D1.txt's two char gram similarity with D4.txt is: 98.550725 percent\n",
      "D2.txt's two char gram similarity with D3.txt is: 100.000000 percent\n",
      "D2.txt's two char gram similarity with D4.txt is: 100.000000 percent\n",
      "D3.txt's two char gram similarity with D4.txt is: 100.000000 percent\n"
     ]
    }
   ],
   "source": [
    "D1set = twoCharGram('pathall/D1.txt')\n",
    "D2set = twoCharGram('pathall/D2.txt')\n",
    "D3set = twoCharGram('pathall/D3.txt')\n",
    "D4set = twoCharGram('pathall/D4.txt')\n",
    "jaccard(D1set,D2set,D3set,D4set, 'two char gram')"
   ]
  },
  {
   "cell_type": "code",
   "execution_count": 21,
   "metadata": {
    "collapsed": false
   },
   "outputs": [
    {
     "name": "stdout",
     "output_type": "stream",
     "text": [
      "D1.txt's  three Char Gram similarity with D2.txt is: 97.448980 percent\n",
      "D1.txt's  three Char Gram similarity with D3.txt is: 97.448980 percent\n",
      "D1.txt's  three Char Gram similarity with D4.txt is: 97.448980 percent\n",
      "D2.txt's  three Char Gram similarity with D3.txt is: 100.000000 percent\n",
      "D2.txt's  three Char Gram similarity with D4.txt is: 100.000000 percent\n",
      "D3.txt's  three Char Gram similarity with D4.txt is: 100.000000 percent\n"
     ]
    }
   ],
   "source": [
    "D1set = threeCharGram('pathall/D1.txt')\n",
    "D2set = threeCharGram('pathall/D2.txt')\n",
    "D3set = threeCharGram('pathall/D3.txt')\n",
    "D4set = threeCharGram('pathall/D4.txt')\n",
    "jaccard(D1set,D2set,D3set,D4set, ' three Char Gram')"
   ]
  },
  {
   "cell_type": "code",
   "execution_count": 22,
   "metadata": {
    "collapsed": false
   },
   "outputs": [
    {
     "name": "stdout",
     "output_type": "stream",
     "text": [
      "D1.txt's two Word Gram similarity with D2.txt is: 93.478261 percent\n",
      "D1.txt's two Word Gram similarity with D3.txt is: 93.478261 percent\n",
      "D1.txt's two Word Gram similarity with D4.txt is: 93.478261 percent\n",
      "D2.txt's two Word Gram similarity with D3.txt is: 100.000000 percent\n",
      "D2.txt's two Word Gram similarity with D4.txt is: 100.000000 percent\n",
      "D3.txt's two Word Gram similarity with D4.txt is: 100.000000 percent\n"
     ]
    }
   ],
   "source": [
    "D1set = twoWordGram('pathall/D1.txt')\n",
    "D2set = twoWordGram('pathall/D2.txt')\n",
    "D3set = twoWordGram('pathall/D3.txt')\n",
    "D4set = twoWordGram('pathall/D4.txt')\n",
    "jaccard(D1set,D2set,D3set,D4set, 'two Word Gram')"
   ]
  },
  {
   "cell_type": "code",
   "execution_count": null,
   "metadata": {
    "collapsed": true
   },
   "outputs": [],
   "source": []
  }
 ],
 "metadata": {
  "kernelspec": {
   "display_name": "Python 3",
   "language": "python",
   "name": "python3"
  },
  "language_info": {
   "codemirror_mode": {
    "name": "ipython",
    "version": 3
   },
   "file_extension": ".py",
   "mimetype": "text/x-python",
   "name": "python",
   "nbconvert_exporter": "python",
   "pygments_lexer": "ipython3",
   "version": "3.6.0"
  }
 },
 "nbformat": 4,
 "nbformat_minor": 2
}

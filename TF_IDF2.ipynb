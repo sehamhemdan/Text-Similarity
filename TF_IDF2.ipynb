{
 "cells": [
  {
   "cell_type": "code",
   "execution_count": 7,
   "metadata": {
    "collapsed": false
   },
   "outputs": [],
   "source": [
    "#source https://nlpforhackers.io/tf-idf/\n",
    "from nltk.corpus import reuters \n",
    "from string import punctuation\n",
    "from nltk.corpus import stopwords\n",
    "from nltk import word_tokenize\n",
    "#print(reuters.fileids() )        # The list of file names inside the corpus\n",
    "#print (len(reuters.fileids())  )          # Number of files in the corpus = 10788\n",
    "# Print the categories associated with a file\n",
    "#print (reuters.categories('training/999'))        # [u'interest', u'money-fx'] \n",
    "# Print the contents of the file\n",
    "#print (reuters.raw('test/14829'))\n",
    "stop_words = stopwords.words('english') + list(punctuation)\n",
    "def tokenize(text):\n",
    "    words = word_tokenize(text)\n",
    "    words = [w.lower() for w in words]\n",
    "    return [w for w in words if w not in stop_words and not w.isdigit()]"
   ]
  },
  {
   "cell_type": "code",
   "execution_count": 8,
   "metadata": {
    "collapsed": false
   },
   "outputs": [
    {
     "name": "stdout",
     "output_type": "stream",
     "text": [
      "51558 10788\n"
     ]
    }
   ],
   "source": [
    "\n",
    "# build the vocabulary in one pass\n",
    "vocabulary = set()\n",
    "for file_id in reuters.fileids():\n",
    "    words = tokenize(reuters.raw(file_id))\n",
    "    vocabulary.update(words)\n",
    "vocabulary = list(vocabulary)\n",
    "word_index = {w: idx for idx, w in enumerate(vocabulary)}\n",
    " \n",
    "VOCABULARY_SIZE = len(vocabulary)\n",
    "DOCUMENTS_COUNT = len(reuters.fileids())\n",
    " \n",
    "print (VOCABULARY_SIZE, DOCUMENTS_COUNT )"
   ]
  },
  {
   "cell_type": "code",
   "execution_count": 8,
   "metadata": {
    "collapsed": false
   },
   "outputs": [
    {
     "name": "stdout",
     "output_type": "stream",
     "text": [
      "7.49443021503\n",
      "3.61286641709\n"
     ]
    }
   ],
   "source": [
    "\n",
    "import numpy as np\n",
    " \n",
    "word_idf = np.zeros(VOCABULARY_SIZE)\n",
    "for file_id in reuters.fileids():\n",
    "    words = set(tokenize(reuters.raw(file_id)))\n",
    "    indexes = [word_index[word] for word in words]\n",
    "    word_idf[indexes] += 1.0\n",
    "word_idf = np.log(DOCUMENTS_COUNT / (1 + word_idf).astype(float))\n",
    "print (word_idf[word_index['deliberations']] )    # 7.49443021503\n",
    "print (word_idf[word_index['committee']]  )       # 3.61286641709\n",
    " "
   ]
  },
  {
   "cell_type": "code",
   "execution_count": 38,
   "metadata": {
    "collapsed": false
   },
   "outputs": [],
   "source": []
  },
  {
   "cell_type": "code",
   "execution_count": 55,
   "metadata": {
    "collapsed": false
   },
   "outputs": [
    {
     "name": "stdout",
     "output_type": "stream",
     "text": [
      "fname= ./pathall\\D1.txt\n",
      "fname= ./pathall\\D2.txt\n",
      "fname= ./pathall\\D3.txt\n",
      "fname= ./pathall\\D4.txt\n",
      "  (0, 8)\t0.777221162079\n",
      "  (0, 2)\t0.62922751467\n",
      "علم  -  0.777221162079\n",
      "جزء  -  0.62922751467\n"
     ]
    }
   ],
   "source": [
    "#source   https://www.bogotobogo.com/python/NLTK/tf_idf_with_scikit-learn_NLTK.php\n",
    "import nltk\n",
    "import string\n",
    "import os\n",
    "\n",
    "from sklearn.feature_extraction.text import TfidfVectorizer\n",
    "from nltk import word_tokenize\n",
    "from nltk.stem.isri import ISRIStemmer\n",
    "from nltk.corpus import stopwords\n",
    "path = './pathall'\n",
    "token_dict = {}\n",
    "\n",
    "\n",
    "def tokenize(text):\n",
    "    tokens = nltk.word_tokenize(text)\n",
    "    stems = []\n",
    "    for item in tokens:\n",
    "        stems.append( ISRIStemmer().stem(item))\n",
    "    return stems\n",
    "\n",
    "for dirpath, dirs, files in os.walk(path):\n",
    "    for f in files:\n",
    "        fname = os.path.join(dirpath, f)\n",
    "        print (\"fname=\", fname)\n",
    "        with open(fname,encoding=\"utf-8\") as pearl:\n",
    "            text = pearl.read()\n",
    "            token_dict[f] = text.lower()\n",
    "tfidf = TfidfVectorizer(tokenizer=tokenize, stop_words=stopwords.words(\"arabic\"))\n",
    "tfs = tfidf.fit_transform(token_dict.values())\n",
    "\n",
    "    #flat_text = [\" \".join(tokenize_removeStop_stem(txt)) for txt in  flat_text]\n",
    "    #vectorizer = TfidfVectorizer()\n",
    "    #matrix = vectorizer.fit_transform( flat_text).todense()\n",
    "\n",
    "str = 'يحتوي هذا الجزء على تعليمات'\n",
    "response = tfidf.transform([str])\n",
    "print (response)\n",
    "\n",
    "feature_names = tfidf.get_feature_names()\n",
    "for col in response.nonzero()[1]:\n",
    "    print (feature_names[col], ' - ', response[0, col])\n"
   ]
  },
  {
   "cell_type": "code",
   "execution_count": null,
   "metadata": {
    "collapsed": true
   },
   "outputs": [],
   "source": []
  }
 ],
 "metadata": {
  "kernelspec": {
   "display_name": "Python 3",
   "language": "python",
   "name": "python3"
  },
  "language_info": {
   "codemirror_mode": {
    "name": "ipython",
    "version": 3
   },
   "file_extension": ".py",
   "mimetype": "text/x-python",
   "name": "python",
   "nbconvert_exporter": "python",
   "pygments_lexer": "ipython3",
   "version": "3.6.0"
  }
 },
 "nbformat": 4,
 "nbformat_minor": 2
}
